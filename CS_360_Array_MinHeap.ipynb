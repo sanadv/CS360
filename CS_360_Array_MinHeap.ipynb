{
  "nbformat": 4,
  "nbformat_minor": 0,
  "metadata": {
    "colab": {
      "provenance": [],
      "authorship_tag": "ABX9TyOsiF4N02aoxywB9cTttb9/",
      "include_colab_link": true
    },
    "kernelspec": {
      "name": "python3",
      "display_name": "Python 3"
    },
    "language_info": {
      "name": "python"
    }
  },
  "cells": [
    {
      "cell_type": "markdown",
      "metadata": {
        "id": "view-in-github",
        "colab_type": "text"
      },
      "source": [
        "<a href=\"https://colab.research.google.com/github/sanadv/CS360/blob/main/CS_360_Array_MinHeap.ipynb\" target=\"_parent\"><img src=\"https://colab.research.google.com/assets/colab-badge.svg\" alt=\"Open In Colab\"/></a>"
      ]
    },
    {
      "cell_type": "code",
      "execution_count": null,
      "metadata": {
        "id": "DprmVT1nffb7"
      },
      "outputs": [],
      "source": [
        "class MinHeapArray:\n",
        "    def __init__(self):\n",
        "        self.heap = []\n",
        "\n",
        "    def insert(self, value):\n",
        "        self.heap.append(value)\n",
        "        self._bubble_up(len(self.heap) - 1)\n",
        "\n",
        "    def extract_min(self):\n",
        "        if len(self.heap) == 0:\n",
        "            return None\n",
        "        min_value = self.heap[0]\n",
        "        if len(self.heap) > 1:\n",
        "            self.heap[0] = self.heap.pop()  # Replace root with the last element\n",
        "            self._bubble_down(0)\n",
        "        else:\n",
        "            self.heap.pop()\n",
        "        return min_value\n",
        "\n",
        "    def _bubble_up(self, index):\n",
        "        parent_index = (index - 1) // 2\n",
        "        while index > 0 and self.heap[index] < self.heap[parent_index]:\n",
        "            self.heap[index], self.heap[parent_index] = self.heap[parent_index], self.heap[index]\n",
        "            index = parent_index\n",
        "            parent_index = (index - 1) // 2\n",
        "\n",
        "    def _bubble_down(self, index):\n",
        "        length = len(self.heap)\n",
        "        left_child_index = 2 * index + 1\n",
        "        right_child_index = 2 * index + 2\n",
        "\n",
        "        smallest = index\n",
        "        if left_child_index < length and self.heap[left_child_index] < self.heap[smallest]:\n",
        "            smallest = left_child_index\n",
        "        if right_child_index < length and self.heap[right_child_index] < self.heap[smallest]:\n",
        "            smallest = right_child_index\n",
        "\n",
        "        if smallest != index:\n",
        "            self.heap[index], self.heap[smallest] = self.heap[smallest], self.heap[index]\n",
        "            self._bubble_down(smallest)\n"
      ]
    }
  ]
}