{
  "nbformat": 4,
  "nbformat_minor": 0,
  "metadata": {
    "colab": {
      "provenance": [],
      "authorship_tag": "ABX9TyNpNCEgLlPusWt52SlMKBdE",
      "include_colab_link": true
    },
    "kernelspec": {
      "name": "python3",
      "display_name": "Python 3"
    },
    "language_info": {
      "name": "python"
    }
  },
  "cells": [
    {
      "cell_type": "markdown",
      "metadata": {
        "id": "view-in-github",
        "colab_type": "text"
      },
      "source": [
        "<a href=\"https://colab.research.google.com/github/sanadv/CS360/blob/main/CS_360_AVL_Tree.ipynb\" target=\"_parent\"><img src=\"https://colab.research.google.com/assets/colab-badge.svg\" alt=\"Open In Colab\"/></a>"
      ]
    },
    {
      "cell_type": "code",
      "source": [
        "class Node:\n",
        "    __slots__ = (\"key\", \"left\", \"right\", \"height\")\n",
        "    def __init__(self, key):\n",
        "        self.key = key\n",
        "        self.left = None\n",
        "        self.right = None\n",
        "        self.height = 1  # leaf\n",
        "\n",
        "def height(n):\n",
        "    return n.height if n else 0\n",
        "\n",
        "def balance_factor(n):\n",
        "    return height(n.left) - height(n.right) if n else 0\n",
        "\n",
        "def update_height(n):\n",
        "    n.height = 1 + max(height(n.left), height(n.right))\n",
        "\n",
        "# --- Rotations ---\n",
        "def right_rotate(y):\n",
        "    r\"\"\"\n",
        "    Rotate right around y:\n",
        "           y                x\n",
        "          / \\              / \\\n",
        "         x   T3   ->      T1  y\n",
        "        / \\                  / \\\n",
        "       T1 T2                T2 T3\n",
        "    \"\"\"\n",
        "    x = y.left\n",
        "    T2 = x.right\n",
        "\n",
        "    # Perform rotation\n",
        "    x.right = y\n",
        "    y.left = T2\n",
        "\n",
        "    # Update heights\n",
        "    update_height(y)\n",
        "    update_height(x)\n",
        "    return x  # new root\n",
        "\n",
        "def left_rotate(x):\n",
        "    r\"\"\"\n",
        "    Rotate left around x:\n",
        "        x                    y\n",
        "       / \\                  / \\\n",
        "      T1  y      ->        x  T3\n",
        "         / \\              / \\\n",
        "        T2 T3            T1 T2\n",
        "    \"\"\"\n",
        "    y = x.right\n",
        "    T2 = y.left\n",
        "\n",
        "    # Perform rotation\n",
        "    y.left = x\n",
        "    x.right = T2\n",
        "\n",
        "    # Update heights\n",
        "    update_height(x)\n",
        "    update_height(y)\n",
        "    return y  # new root\n",
        "\n",
        "# --- Insertion (with rebalancing) ---\n",
        "def insert(root, key):\n",
        "    # 1) Normal BST insert\n",
        "    if root is None:\n",
        "        return Node(key)\n",
        "    if key < root.key:\n",
        "        root.left = insert(root.left, key)\n",
        "    elif key > root.key:\n",
        "        root.right = insert(root.right, key)\n",
        "    else:\n",
        "        return root  # ignore duplicates (no-op)\n",
        "\n",
        "    # 2) Update height\n",
        "    update_height(root)\n",
        "\n",
        "    # 3) Get balance and rotate if needed\n",
        "    bf = balance_factor(root)\n",
        "\n",
        "    # Case LL\n",
        "    if bf > 1 and key < root.left.key:\n",
        "        return right_rotate(root)\n",
        "\n",
        "    # Case RR\n",
        "    if bf < -1 and key > root.right.key:\n",
        "        return left_rotate(root)\n",
        "\n",
        "    # Case LR\n",
        "    if bf > 1 and key > root.left.key:\n",
        "        root.left = left_rotate(root.left)\n",
        "        return right_rotate(root)\n",
        "\n",
        "    # Case RL\n",
        "    if bf < -1 and key < root.right.key:\n",
        "        root.right = right_rotate(root.right)\n",
        "        return left_rotate(root)\n",
        "\n",
        "    return root\n",
        "\n",
        "# --- Helpers for quick testing ---\n",
        "def inorder(n):\n",
        "    return inorder(n.left) + [n.key] + inorder(n.right) if n else []\n",
        "\n",
        "def preorder(n):\n",
        "    return [n.key] + preorder(n.left) + preorder(n.right) if n else []\n",
        "\n",
        "# Example:\n",
        "if __name__ == \"__main__\":\n",
        "    root = None\n",
        "    for k in [10, 20, 30, 40, 50, 25]:\n",
        "        root = insert(root, k)\n",
        "    print(\"inorder:\", inorder(root))\n",
        "    print(\"preorder:\", preorder(root))\n"
      ],
      "metadata": {
        "colab": {
          "base_uri": "https://localhost:8080/"
        },
        "id": "vaMwN66ObwBM",
        "outputId": "73700024-966f-475b-e357-afd3f00a313a"
      },
      "execution_count": 2,
      "outputs": [
        {
          "output_type": "stream",
          "name": "stdout",
          "text": [
            "inorder: [10, 20, 25, 30, 40, 50]\n",
            "preorder: [30, 20, 10, 25, 40, 50]\n"
          ]
        }
      ]
    }
  ]
}